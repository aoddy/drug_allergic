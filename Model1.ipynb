{
  "nbformat": 4,
  "nbformat_minor": 0,
  "metadata": {
    "colab": {
      "name": "Model1",
      "provenance": []
    },
    "kernelspec": {
      "name": "python3",
      "display_name": "Python 3"
    }
  },
  "cells": [
    {
      "cell_type": "markdown",
      "metadata": {
        "id": "aQrdXIvLL1Gl",
        "colab_type": "text"
      },
      "source": [
        "**Objective :**\n",
        "> Create the model so as to predict the 'Drug Allergic'.\n",
        "\n",
        "\n",
        "\n",
        "**Steps :**\n",
        "1. Review data by checking the 'null value' in data. (In fact, I reviewed dataset on Microsoft Excel so as to see overall data first.)\n",
        "2. Cleaning data.\n",
        "3. Check correlation number for each feature with 'Drug_Rechallenge_Result' feature.\n",
        "4. Select the algorithm that suitable for data & question.\n",
        "5. Split dataset for training&testing.\n",
        "6. Create a model.\n",
        "7. Check the accuracy of model.\n",
        "8. Improve model.\n",
        "9. Compare result before and after improve the model.\n",
        "10. Summarize.\n",
        "\n",
        "---\n",
        "\n",
        "**Let start!!**\n"
      ]
    },
    {
      "cell_type": "markdown",
      "metadata": {
        "id": "yLvBroj1Jh7i",
        "colab_type": "text"
      },
      "source": [
        "First of all, I need to connect colab with google drive for make sure I can load data."
      ]
    },
    {
      "cell_type": "code",
      "metadata": {
        "id": "oe8j6rauBKp8",
        "colab_type": "code",
        "colab": {
          "base_uri": "https://localhost:8080/",
          "height": 35
        },
        "outputId": "a15d0416-f661-48a7-f4a7-11ddb5631767"
      },
      "source": [
        "from pydrive.auth import GoogleAuth\n",
        "from pydrive.drive import GoogleDrive\n",
        "from google.colab import auth\n",
        "from oauth2client.client import GoogleCredentials\n",
        "\n",
        "\n",
        "auth.authenticate_user()\n",
        "gauth = GoogleAuth()\n",
        "gauth.credentials = GoogleCredentials.get_application_default()\n",
        "drive = GoogleDrive(gauth)\n",
        "\n",
        "from google.colab import drive\n",
        "drive.mount('/content/drive')\n"
      ],
      "execution_count": null,
      "outputs": [
        {
          "output_type": "stream",
          "text": [
            "Drive already mounted at /content/drive; to attempt to forcibly remount, call drive.mount(\"/content/drive\", force_remount=True).\n"
          ],
          "name": "stdout"
        }
      ]
    },
    {
      "cell_type": "markdown",
      "metadata": {
        "id": "tiP6BhsMJyK_",
        "colab_type": "text"
      },
      "source": [
        "Load data set."
      ]
    },
    {
      "cell_type": "code",
      "metadata": {
        "id": "hagT40dzXOrV",
        "colab_type": "code",
        "colab": {
          "base_uri": "https://localhost:8080/",
          "height": 35
        },
        "outputId": "b9b384c5-b0cb-4b4f-b264-92ffacafca86"
      },
      "source": [
        "import numpy as np\n",
        "import pandas as pd\n",
        "\n",
        "path='/content/drive/My Drive/Problem1/DrugAllergyKaggle_v3_050720.csv'\n",
        "data = pd.read_csv(path)\n",
        "# check size #\n",
        "data.shape"
      ],
      "execution_count": null,
      "outputs": [
        {
          "output_type": "execute_result",
          "data": {
            "text/plain": [
              "(799, 18)"
            ]
          },
          "metadata": {
            "tags": []
          },
          "execution_count": 3
        }
      ]
    },
    {
      "cell_type": "markdown",
      "metadata": {
        "id": "m8jIF2C4J7Hs",
        "colab_type": "text"
      },
      "source": [
        "Check null value in dataset."
      ]
    },
    {
      "cell_type": "code",
      "metadata": {
        "id": "0rNL30DIAwsG",
        "colab_type": "code",
        "colab": {
          "base_uri": "https://localhost:8080/",
          "height": 366
        },
        "outputId": "e1ac53c1-c8ce-4b34-af3f-d081447615d1"
      },
      "source": [
        "# check null data\n",
        "data.isnull().sum()"
      ],
      "execution_count": null,
      "outputs": [
        {
          "output_type": "execute_result",
          "data": {
            "text/plain": [
              "Patient_ID                   0\n",
              "Gender                       0\n",
              "Age_Year                     0\n",
              "ELISpot_Control              0\n",
              "ELISpot_Result               1\n",
              "Naranjo_Score              368\n",
              "Naranjo_Category           290\n",
              "Exposure_Time              177\n",
              "Steroid_Usage                0\n",
              "Underlying_Condition_A      18\n",
              "Underlying_Condition_B       0\n",
              "Underlying_Condition_C       0\n",
              "Underlying_Condition_D      14\n",
              "Underlying_Condition_E       1\n",
              "Suspicion_Score              0\n",
              "Allergic_Reaction_Group     28\n",
              "Drug_Group                   0\n",
              "Drug_Rechallenge_Result    685\n",
              "dtype: int64"
            ]
          },
          "metadata": {
            "tags": []
          },
          "execution_count": 4
        }
      ]
    },
    {
      "cell_type": "markdown",
      "metadata": {
        "id": "WbbH0nmtKbsY",
        "colab_type": "text"
      },
      "source": [
        "Select ground truth data records that there are not null value in column 'Drug_Rechallenger_Result'."
      ]
    },
    {
      "cell_type": "code",
      "metadata": {
        "id": "-6b3BlxqJVfg",
        "colab_type": "code",
        "colab": {
          "base_uri": "https://localhost:8080/",
          "height": 226
        },
        "outputId": "ce76ed81-d24a-460b-8a49-4766fc0baf45"
      },
      "source": [
        "# Select ground truth data by compare is not null in colume 'Drug_Rechallenger_Result'.\n",
        "data_ground_truth = data.loc[(data['Drug_Rechallenge_Result'].notnull())]\n",
        "# Re-Index\n",
        "data_ground_truth = data_ground_truth.reset_index(drop=True)\n",
        "data_ground_truth.shape\n",
        "data_ground_truth.head()"
      ],
      "execution_count": null,
      "outputs": [
        {
          "output_type": "execute_result",
          "data": {
            "text/html": [
              "<div>\n",
              "<style scoped>\n",
              "    .dataframe tbody tr th:only-of-type {\n",
              "        vertical-align: middle;\n",
              "    }\n",
              "\n",
              "    .dataframe tbody tr th {\n",
              "        vertical-align: top;\n",
              "    }\n",
              "\n",
              "    .dataframe thead th {\n",
              "        text-align: right;\n",
              "    }\n",
              "</style>\n",
              "<table border=\"1\" class=\"dataframe\">\n",
              "  <thead>\n",
              "    <tr style=\"text-align: right;\">\n",
              "      <th></th>\n",
              "      <th>Patient_ID</th>\n",
              "      <th>Gender</th>\n",
              "      <th>Age_Year</th>\n",
              "      <th>ELISpot_Control</th>\n",
              "      <th>ELISpot_Result</th>\n",
              "      <th>Naranjo_Score</th>\n",
              "      <th>Naranjo_Category</th>\n",
              "      <th>Exposure_Time</th>\n",
              "      <th>Steroid_Usage</th>\n",
              "      <th>Underlying_Condition_A</th>\n",
              "      <th>Underlying_Condition_B</th>\n",
              "      <th>Underlying_Condition_C</th>\n",
              "      <th>Underlying_Condition_D</th>\n",
              "      <th>Underlying_Condition_E</th>\n",
              "      <th>Suspicion_Score</th>\n",
              "      <th>Allergic_Reaction_Group</th>\n",
              "      <th>Drug_Group</th>\n",
              "      <th>Drug_Rechallenge_Result</th>\n",
              "    </tr>\n",
              "  </thead>\n",
              "  <tbody>\n",
              "    <tr>\n",
              "      <th>0</th>\n",
              "      <td>79</td>\n",
              "      <td>1</td>\n",
              "      <td>55</td>\n",
              "      <td>2344</td>\n",
              "      <td>129.0</td>\n",
              "      <td>2.0</td>\n",
              "      <td>1.0</td>\n",
              "      <td>25.0</td>\n",
              "      <td>0</td>\n",
              "      <td>0.0</td>\n",
              "      <td>0</td>\n",
              "      <td>0</td>\n",
              "      <td>0.0</td>\n",
              "      <td>0.0</td>\n",
              "      <td>2</td>\n",
              "      <td>6.0</td>\n",
              "      <td>1</td>\n",
              "      <td>0.0</td>\n",
              "    </tr>\n",
              "    <tr>\n",
              "      <th>1</th>\n",
              "      <td>79</td>\n",
              "      <td>1</td>\n",
              "      <td>55</td>\n",
              "      <td>2344</td>\n",
              "      <td>113.0</td>\n",
              "      <td>3.0</td>\n",
              "      <td>1.0</td>\n",
              "      <td>25.0</td>\n",
              "      <td>0</td>\n",
              "      <td>0.0</td>\n",
              "      <td>0</td>\n",
              "      <td>0</td>\n",
              "      <td>0.0</td>\n",
              "      <td>0.0</td>\n",
              "      <td>2</td>\n",
              "      <td>6.0</td>\n",
              "      <td>3</td>\n",
              "      <td>1.0</td>\n",
              "    </tr>\n",
              "    <tr>\n",
              "      <th>2</th>\n",
              "      <td>188</td>\n",
              "      <td>1</td>\n",
              "      <td>47</td>\n",
              "      <td>2376</td>\n",
              "      <td>83.0</td>\n",
              "      <td>5.0</td>\n",
              "      <td>2.0</td>\n",
              "      <td>2.0</td>\n",
              "      <td>0</td>\n",
              "      <td>0.0</td>\n",
              "      <td>0</td>\n",
              "      <td>0</td>\n",
              "      <td>0.0</td>\n",
              "      <td>0.0</td>\n",
              "      <td>2</td>\n",
              "      <td>2.0</td>\n",
              "      <td>6</td>\n",
              "      <td>1.0</td>\n",
              "    </tr>\n",
              "    <tr>\n",
              "      <th>3</th>\n",
              "      <td>95</td>\n",
              "      <td>0</td>\n",
              "      <td>55</td>\n",
              "      <td>1624</td>\n",
              "      <td>63.0</td>\n",
              "      <td>NaN</td>\n",
              "      <td>2.0</td>\n",
              "      <td>12.0</td>\n",
              "      <td>0</td>\n",
              "      <td>0.0</td>\n",
              "      <td>0</td>\n",
              "      <td>1</td>\n",
              "      <td>0.0</td>\n",
              "      <td>1.0</td>\n",
              "      <td>2</td>\n",
              "      <td>1.0</td>\n",
              "      <td>7</td>\n",
              "      <td>0.0</td>\n",
              "    </tr>\n",
              "    <tr>\n",
              "      <th>4</th>\n",
              "      <td>7</td>\n",
              "      <td>0</td>\n",
              "      <td>75</td>\n",
              "      <td>1868</td>\n",
              "      <td>51.0</td>\n",
              "      <td>5.0</td>\n",
              "      <td>2.0</td>\n",
              "      <td>1.0</td>\n",
              "      <td>0</td>\n",
              "      <td>0.0</td>\n",
              "      <td>0</td>\n",
              "      <td>0</td>\n",
              "      <td>0.0</td>\n",
              "      <td>0.0</td>\n",
              "      <td>2</td>\n",
              "      <td>6.0</td>\n",
              "      <td>4</td>\n",
              "      <td>1.0</td>\n",
              "    </tr>\n",
              "  </tbody>\n",
              "</table>\n",
              "</div>"
            ],
            "text/plain": [
              "   Patient_ID  Gender  ...  Drug_Group  Drug_Rechallenge_Result\n",
              "0          79       1  ...           1                      0.0\n",
              "1          79       1  ...           3                      1.0\n",
              "2         188       1  ...           6                      1.0\n",
              "3          95       0  ...           7                      0.0\n",
              "4           7       0  ...           4                      1.0\n",
              "\n",
              "[5 rows x 18 columns]"
            ]
          },
          "metadata": {
            "tags": []
          },
          "execution_count": 5
        }
      ]
    },
    {
      "cell_type": "markdown",
      "metadata": {
        "id": "3ZFB36m5Lu7_",
        "colab_type": "text"
      },
      "source": [
        "Check null data again."
      ]
    },
    {
      "cell_type": "code",
      "metadata": {
        "id": "S3p4an3OJdui",
        "colab_type": "code",
        "colab": {
          "base_uri": "https://localhost:8080/",
          "height": 366
        },
        "outputId": "1f5a4df3-09a6-467e-a418-02a06f1afa21"
      },
      "source": [
        "# check null data\n",
        "data_ground_truth.isnull().sum()"
      ],
      "execution_count": null,
      "outputs": [
        {
          "output_type": "execute_result",
          "data": {
            "text/plain": [
              "Patient_ID                  0\n",
              "Gender                      0\n",
              "Age_Year                    0\n",
              "ELISpot_Control             0\n",
              "ELISpot_Result              0\n",
              "Naranjo_Score              21\n",
              "Naranjo_Category           14\n",
              "Exposure_Time              21\n",
              "Steroid_Usage               0\n",
              "Underlying_Condition_A      0\n",
              "Underlying_Condition_B      0\n",
              "Underlying_Condition_C      0\n",
              "Underlying_Condition_D      1\n",
              "Underlying_Condition_E      0\n",
              "Suspicion_Score             0\n",
              "Allergic_Reaction_Group     0\n",
              "Drug_Group                  0\n",
              "Drug_Rechallenge_Result     0\n",
              "dtype: int64"
            ]
          },
          "metadata": {
            "tags": []
          },
          "execution_count": 6
        }
      ]
    },
    {
      "cell_type": "markdown",
      "metadata": {
        "id": "xzvSVOaYbvkv",
        "colab_type": "text"
      },
      "source": [
        "Cleaning data\n",
        "Replace 'nan' value with 'most frequent' data by SimpleImputer function."
      ]
    },
    {
      "cell_type": "code",
      "metadata": {
        "id": "RHieckNeQzQL",
        "colab_type": "code",
        "colab": {
          "base_uri": "https://localhost:8080/",
          "height": 366
        },
        "outputId": "b3894fea-c1bb-49a6-c507-0e173ce33200"
      },
      "source": [
        "from sklearn.impute import SimpleImputer\n",
        "\n",
        "Naranjo_Score = data_ground_truth['Naranjo_Score'].values\n",
        "Naranjo_Score = np.reshape(Naranjo_Score,(-1,1))\n",
        "\n",
        "Naranjo_Category = data_ground_truth['Naranjo_Category'].values\n",
        "Naranjo_Category = np.reshape(Naranjo_Category,(-1,1))\n",
        "\n",
        "Exposure_Time = data_ground_truth['Exposure_Time'].values\n",
        "Exposure_Time = np.reshape(Exposure_Time,(-1,1))\n",
        "\n",
        "# Replacing 'nan' value with 'most frequent' data.\n",
        "imp = SimpleImputer(missing_values = np.nan , strategy='most_frequent')\n",
        "imp.fit(Naranjo_Score)\n",
        "imp.fit(Naranjo_Category)\n",
        "imp.fit(Exposure_Time)\n",
        "\n",
        "data_ground_truth['Naranjo_Score'] = imp.transform(Naranjo_Score)\n",
        "data_ground_truth['Naranjo_Category'] = imp.transform(Naranjo_Category)\n",
        "data_ground_truth['Exposure_Time'] = imp.transform(Exposure_Time)\n",
        "\n",
        "# check null data\n",
        "data_ground_truth.isnull().sum()"
      ],
      "execution_count": null,
      "outputs": [
        {
          "output_type": "execute_result",
          "data": {
            "text/plain": [
              "Patient_ID                 0\n",
              "Gender                     0\n",
              "Age_Year                   0\n",
              "ELISpot_Control            0\n",
              "ELISpot_Result             0\n",
              "Naranjo_Score              0\n",
              "Naranjo_Category           0\n",
              "Exposure_Time              0\n",
              "Steroid_Usage              0\n",
              "Underlying_Condition_A     0\n",
              "Underlying_Condition_B     0\n",
              "Underlying_Condition_C     0\n",
              "Underlying_Condition_D     1\n",
              "Underlying_Condition_E     0\n",
              "Suspicion_Score            0\n",
              "Allergic_Reaction_Group    0\n",
              "Drug_Group                 0\n",
              "Drug_Rechallenge_Result    0\n",
              "dtype: int64"
            ]
          },
          "metadata": {
            "tags": []
          },
          "execution_count": 7
        }
      ]
    },
    {
      "cell_type": "markdown",
      "metadata": {
        "id": "YjGQyRxRdo54",
        "colab_type": "text"
      },
      "source": [
        "Check correlated number with 'Drug_Rechallenge_Result'\n",
        "I choose features(column) that get the number of corr is close to 1."
      ]
    },
    {
      "cell_type": "code",
      "metadata": {
        "id": "J-DBwIvzcyrj",
        "colab_type": "code",
        "colab": {
          "base_uri": "https://localhost:8080/",
          "height": 366
        },
        "outputId": "92019caa-b4ca-407a-9344-4d14b9dbe025"
      },
      "source": [
        "data_ground_truth.corr()['Drug_Rechallenge_Result']"
      ],
      "execution_count": null,
      "outputs": [
        {
          "output_type": "execute_result",
          "data": {
            "text/plain": [
              "Patient_ID                -0.107253\n",
              "Gender                     0.053926\n",
              "Age_Year                  -0.192368\n",
              "ELISpot_Control            0.065338\n",
              "ELISpot_Result             0.257566\n",
              "Naranjo_Score              0.434784\n",
              "Naranjo_Category           0.398901\n",
              "Exposure_Time             -0.076193\n",
              "Steroid_Usage             -0.073921\n",
              "Underlying_Condition_A     0.082576\n",
              "Underlying_Condition_B     0.069898\n",
              "Underlying_Condition_C     0.019038\n",
              "Underlying_Condition_D    -0.108515\n",
              "Underlying_Condition_E    -0.004730\n",
              "Suspicion_Score           -0.062073\n",
              "Allergic_Reaction_Group   -0.155619\n",
              "Drug_Group                 0.027581\n",
              "Drug_Rechallenge_Result    1.000000\n",
              "Name: Drug_Rechallenge_Result, dtype: float64"
            ]
          },
          "metadata": {
            "tags": []
          },
          "execution_count": 8
        }
      ]
    },
    {
      "cell_type": "markdown",
      "metadata": {
        "id": "4qPhu__BgiSl",
        "colab_type": "text"
      },
      "source": [
        "So the top 3 feature that get high correlation number are \n",
        "'Naranjo_Score', 'Naranjo_Category' and 'ELISpot_Result' \n",
        "and I decide to use all of them in my model."
      ]
    },
    {
      "cell_type": "code",
      "metadata": {
        "id": "NbVG2bKAkNqR",
        "colab_type": "code",
        "colab": {
          "base_uri": "https://localhost:8080/",
          "height": 206
        },
        "outputId": "1df0dba4-d4f5-4408-e04c-ee6a6480cc22"
      },
      "source": [
        "# So we choose 'ELISpot_Result', 'Naranjo_Score' and ''Naranjo_Category' features.\n",
        "x1 = data_ground_truth[['ELISpot_Result', 'Naranjo_Score', 'Naranjo_Category']]\n",
        "x1.head()"
      ],
      "execution_count": null,
      "outputs": [
        {
          "output_type": "execute_result",
          "data": {
            "text/html": [
              "<div>\n",
              "<style scoped>\n",
              "    .dataframe tbody tr th:only-of-type {\n",
              "        vertical-align: middle;\n",
              "    }\n",
              "\n",
              "    .dataframe tbody tr th {\n",
              "        vertical-align: top;\n",
              "    }\n",
              "\n",
              "    .dataframe thead th {\n",
              "        text-align: right;\n",
              "    }\n",
              "</style>\n",
              "<table border=\"1\" class=\"dataframe\">\n",
              "  <thead>\n",
              "    <tr style=\"text-align: right;\">\n",
              "      <th></th>\n",
              "      <th>ELISpot_Result</th>\n",
              "      <th>Naranjo_Score</th>\n",
              "      <th>Naranjo_Category</th>\n",
              "    </tr>\n",
              "  </thead>\n",
              "  <tbody>\n",
              "    <tr>\n",
              "      <th>0</th>\n",
              "      <td>129.0</td>\n",
              "      <td>2.0</td>\n",
              "      <td>1.0</td>\n",
              "    </tr>\n",
              "    <tr>\n",
              "      <th>1</th>\n",
              "      <td>113.0</td>\n",
              "      <td>3.0</td>\n",
              "      <td>1.0</td>\n",
              "    </tr>\n",
              "    <tr>\n",
              "      <th>2</th>\n",
              "      <td>83.0</td>\n",
              "      <td>5.0</td>\n",
              "      <td>2.0</td>\n",
              "    </tr>\n",
              "    <tr>\n",
              "      <th>3</th>\n",
              "      <td>63.0</td>\n",
              "      <td>0.0</td>\n",
              "      <td>2.0</td>\n",
              "    </tr>\n",
              "    <tr>\n",
              "      <th>4</th>\n",
              "      <td>51.0</td>\n",
              "      <td>5.0</td>\n",
              "      <td>2.0</td>\n",
              "    </tr>\n",
              "  </tbody>\n",
              "</table>\n",
              "</div>"
            ],
            "text/plain": [
              "   ELISpot_Result  Naranjo_Score  Naranjo_Category\n",
              "0           129.0            2.0               1.0\n",
              "1           113.0            3.0               1.0\n",
              "2            83.0            5.0               2.0\n",
              "3            63.0            0.0               2.0\n",
              "4            51.0            5.0               2.0"
            ]
          },
          "metadata": {
            "tags": []
          },
          "execution_count": 9
        }
      ]
    },
    {
      "cell_type": "code",
      "metadata": {
        "id": "htoltMBYkqMG",
        "colab_type": "code",
        "colab": {
          "base_uri": "https://localhost:8080/",
          "height": 127
        },
        "outputId": "88c3e347-f1b8-4ac6-929f-c2a59735de73"
      },
      "source": [
        "y1 = data_ground_truth['Drug_Rechallenge_Result']\n",
        "y1.head()"
      ],
      "execution_count": null,
      "outputs": [
        {
          "output_type": "execute_result",
          "data": {
            "text/plain": [
              "0    0.0\n",
              "1    1.0\n",
              "2    1.0\n",
              "3    0.0\n",
              "4    1.0\n",
              "Name: Drug_Rechallenge_Result, dtype: float64"
            ]
          },
          "metadata": {
            "tags": []
          },
          "execution_count": 10
        }
      ]
    },
    {
      "cell_type": "markdown",
      "metadata": {
        "id": "PzbhtCp8he8J",
        "colab_type": "text"
      },
      "source": [
        "The best algorithm for prediction 'YES'/'NO' answer, I decide to choose ''Logistic Regression' algorithm."
      ]
    },
    {
      "cell_type": "code",
      "metadata": {
        "id": "Ja-EqhHaggli",
        "colab_type": "code",
        "colab": {
          "base_uri": "https://localhost:8080/",
          "height": 109
        },
        "outputId": "9293bbf4-3692-4b26-ec32-f529cc839e96"
      },
      "source": [
        "from sklearn.linear_model import LogisticRegression\n",
        "# Split data to train & test so as to protect 'over/under fitting'\n",
        "from sklearn.model_selection import train_test_split\n",
        "x1_train, x1_test, y1_train, y1_test = train_test_split(x1, y1, test_size=0.3, random_state=42)\n",
        "\n",
        "# Create a 'Logistic Regression' Model\n",
        "LGT_Model = LogisticRegression(solver='lbfgs')\n",
        "# Training Model\n",
        "LGT_Model.fit(x1_train, y1_train)"
      ],
      "execution_count": null,
      "outputs": [
        {
          "output_type": "execute_result",
          "data": {
            "text/plain": [
              "LogisticRegression(C=1.0, class_weight=None, dual=False, fit_intercept=True,\n",
              "                   intercept_scaling=1, l1_ratio=None, max_iter=100,\n",
              "                   multi_class='auto', n_jobs=None, penalty='l2',\n",
              "                   random_state=None, solver='lbfgs', tol=0.0001, verbose=0,\n",
              "                   warm_start=False)"
            ]
          },
          "metadata": {
            "tags": []
          },
          "execution_count": 29
        }
      ]
    },
    {
      "cell_type": "markdown",
      "metadata": {
        "id": "b4c7zPj-lek3",
        "colab_type": "text"
      },
      "source": [
        "Check the accuracy of model."
      ]
    },
    {
      "cell_type": "code",
      "metadata": {
        "id": "xb5OnPiTlQTD",
        "colab_type": "code",
        "colab": {
          "base_uri": "https://localhost:8080/",
          "height": 201
        },
        "outputId": "3ebd269b-da49-4656-8505-dfccc1aa2b42"
      },
      "source": [
        "y1_pred = LGT_Model.predict(x1_test)\n",
        "from sklearn.metrics import accuracy_score\n",
        "from sklearn.metrics import classification_report\n",
        "\n",
        "print('ACC ',accuracy_score(y1_test, y1_pred))\n",
        "print(classification_report(y1_test, y1_pred))"
      ],
      "execution_count": null,
      "outputs": [
        {
          "output_type": "stream",
          "text": [
            "ACC  0.7714285714285715\n",
            "              precision    recall  f1-score   support\n",
            "\n",
            "         0.0       0.77      0.96      0.85        24\n",
            "         1.0       0.80      0.36      0.50        11\n",
            "\n",
            "    accuracy                           0.77        35\n",
            "   macro avg       0.78      0.66      0.68        35\n",
            "weighted avg       0.78      0.77      0.74        35\n",
            "\n"
          ],
          "name": "stdout"
        }
      ]
    },
    {
      "cell_type": "markdown",
      "metadata": {
        "id": "w2Du-Zc3nXCk",
        "colab_type": "text"
      },
      "source": [
        "Now, The accuracy of this model is 77%, this number is quite high."
      ]
    },
    {
      "cell_type": "code",
      "metadata": {
        "id": "HpYCFRuIlog_",
        "colab_type": "code",
        "colab": {
          "base_uri": "https://localhost:8080/",
          "height": 54
        },
        "outputId": "d1c2a690-c189-47f8-9d6e-1042b7e906a5"
      },
      "source": [
        "# Let try to predict\n",
        "# LGT_Model.predict([[A,B,C]])\n",
        "# - A is ELISpot_Result\n",
        "# - B is Naranjo_Score \n",
        "# - C is Naranjo_Category\n",
        "\n",
        "print(LGT_Model.predict([[113,3,1]]))\n",
        "print(LGT_Model.predict_proba([[113,3,1]]))"
      ],
      "execution_count": null,
      "outputs": [
        {
          "output_type": "stream",
          "text": [
            "[1.]\n",
            "[[0.00336571 0.99663429]]\n"
          ],
          "name": "stdout"
        }
      ]
    },
    {
      "cell_type": "markdown",
      "metadata": {
        "id": "AFYS7uveaVD4",
        "colab_type": "text"
      },
      "source": [
        "Improve the model\n",
        "1. Implement the StandardScaler into training data (variable x).\n",
        "2. Increase the % of training data from 70% to 80%."
      ]
    },
    {
      "cell_type": "code",
      "metadata": {
        "id": "M6Ry1Y0vmqDX",
        "colab_type": "code",
        "colab": {
          "base_uri": "https://localhost:8080/",
          "height": 90
        },
        "outputId": "8949563f-10eb-448d-ccc8-b61f60c51b52"
      },
      "source": [
        "# Let check variance before scale.\n",
        "print(x1.var())"
      ],
      "execution_count": null,
      "outputs": [
        {
          "output_type": "stream",
          "text": [
            "ELISpot_Result      2198.087952\n",
            "Naranjo_Score          3.668374\n",
            "Naranjo_Category       0.318584\n",
            "dtype: float64\n"
          ],
          "name": "stdout"
        }
      ]
    },
    {
      "cell_type": "code",
      "metadata": {
        "id": "GwVKoBdfWSnU",
        "colab_type": "code",
        "colab": {}
      },
      "source": [
        "x2 = data_ground_truth[['ELISpot_Result', 'Naranjo_Score', 'Naranjo_Category']]\n",
        "y2 = data_ground_truth['Drug_Rechallenge_Result']\n",
        "\n",
        "# Implement the StandardScaler\n",
        "from sklearn.preprocessing import StandardScaler\n",
        "scale = StandardScaler()\n",
        "x2 = pd.DataFrame(scale.fit_transform(x2), columns=x2.columns)"
      ],
      "execution_count": null,
      "outputs": []
    },
    {
      "cell_type": "code",
      "metadata": {
        "id": "K5hmxt2hlBi_",
        "colab_type": "code",
        "colab": {
          "base_uri": "https://localhost:8080/",
          "height": 90
        },
        "outputId": "4ccc65a1-af69-423d-8cac-a34091745085"
      },
      "source": [
        "# Let check variance after scale.\n",
        "print(x2.var())"
      ],
      "execution_count": null,
      "outputs": [
        {
          "output_type": "stream",
          "text": [
            "ELISpot_Result      1.00885\n",
            "Naranjo_Score       1.00885\n",
            "Naranjo_Category    1.00885\n",
            "dtype: float64\n"
          ],
          "name": "stdout"
        }
      ]
    },
    {
      "cell_type": "code",
      "metadata": {
        "id": "zbkBHRvMlFGC",
        "colab_type": "code",
        "colab": {
          "base_uri": "https://localhost:8080/",
          "height": 109
        },
        "outputId": "bb41712e-464f-4263-a2d0-9ff4501212af"
      },
      "source": [
        "# Split the data to training & testing again and increase the % of training from 70% to 80%.\n",
        "x2_train, x2_test, y2_train, y2_test = train_test_split(x2, y2, test_size=0.2, random_state=42)\n",
        "\n",
        "LGT_Model2 = LogisticRegression(solver='lbfgs')\n",
        "LGT_Model2.fit(x2_train, y2_train)"
      ],
      "execution_count": null,
      "outputs": [
        {
          "output_type": "execute_result",
          "data": {
            "text/plain": [
              "LogisticRegression(C=1.0, class_weight=None, dual=False, fit_intercept=True,\n",
              "                   intercept_scaling=1, l1_ratio=None, max_iter=100,\n",
              "                   multi_class='auto', n_jobs=None, penalty='l2',\n",
              "                   random_state=None, solver='lbfgs', tol=0.0001, verbose=0,\n",
              "                   warm_start=False)"
            ]
          },
          "metadata": {
            "tags": []
          },
          "execution_count": 36
        }
      ]
    },
    {
      "cell_type": "code",
      "metadata": {
        "id": "8iMk_yG9lkso",
        "colab_type": "code",
        "colab": {
          "base_uri": "https://localhost:8080/",
          "height": 201
        },
        "outputId": "1ef53064-e285-475f-ce38-827248851430"
      },
      "source": [
        "y2_pred = LGT_Model2.predict(x2_test)\n",
        "\n",
        "print('ACC ',accuracy_score(y2_test, y2_pred))\n",
        "print(classification_report(y2_test, y2_pred))"
      ],
      "execution_count": null,
      "outputs": [
        {
          "output_type": "stream",
          "text": [
            "ACC  0.8260869565217391\n",
            "              precision    recall  f1-score   support\n",
            "\n",
            "         0.0       0.83      0.94      0.88        16\n",
            "         1.0       0.80      0.57      0.67         7\n",
            "\n",
            "    accuracy                           0.83        23\n",
            "   macro avg       0.82      0.75      0.77        23\n",
            "weighted avg       0.82      0.83      0.82        23\n",
            "\n"
          ],
          "name": "stdout"
        }
      ]
    },
    {
      "cell_type": "markdown",
      "metadata": {
        "id": "ZbPdmFBMmMjD",
        "colab_type": "text"
      },
      "source": [
        "Now, The accuracy of this model is increase from 77% to 83%."
      ]
    },
    {
      "cell_type": "markdown",
      "metadata": {
        "id": "xT3hWwvHnHI1",
        "colab_type": "text"
      },
      "source": [
        "Compare with Model1"
      ]
    },
    {
      "cell_type": "code",
      "metadata": {
        "id": "wQL-MMR_nDMo",
        "colab_type": "code",
        "colab": {
          "base_uri": "https://localhost:8080/",
          "height": 201
        },
        "outputId": "9cb7af47-a85b-427c-809d-f4ce49ed2e5e"
      },
      "source": [
        "y1_pred = LGT_Model.predict(x1_test)\n",
        "from sklearn.metrics import accuracy_score\n",
        "from sklearn.metrics import classification_report\n",
        "\n",
        "print('ACC ',accuracy_score(y1_test, y1_pred))\n",
        "print(classification_report(y1_test, y1_pred))"
      ],
      "execution_count": null,
      "outputs": [
        {
          "output_type": "stream",
          "text": [
            "ACC  0.7714285714285715\n",
            "              precision    recall  f1-score   support\n",
            "\n",
            "         0.0       0.77      0.96      0.85        24\n",
            "         1.0       0.80      0.36      0.50        11\n",
            "\n",
            "    accuracy                           0.77        35\n",
            "   macro avg       0.78      0.66      0.68        35\n",
            "weighted avg       0.78      0.77      0.74        35\n",
            "\n"
          ],
          "name": "stdout"
        }
      ]
    },
    {
      "cell_type": "markdown",
      "metadata": {
        "id": "e-Uw57Qbm2WZ",
        "colab_type": "text"
      },
      "source": [
        "Summarrize\n",
        "From the classification report, the accuracy number is increase from 77% to 83% after I increase and implement the standard scaler into training dataset. And the number of precision, recall and f1-score are increase too.\n",
        "\n",
        "So the main impact of accuracy is the training dataset, if we have more groud truth data, this model will have more accurate."
      ]
    }
  ]
}
